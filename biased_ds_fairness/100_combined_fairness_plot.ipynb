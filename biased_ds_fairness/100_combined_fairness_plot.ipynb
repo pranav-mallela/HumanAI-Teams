{
 "cells": [
  {
   "cell_type": "code",
   "execution_count": null,
   "metadata": {},
   "outputs": [],
   "source": [
    "import experiment\n",
    "import matplotlib.pyplot as plt\n",
    "import numpy as np"
   ]
  },
  {
   "cell_type": "code",
   "execution_count": 1,
   "metadata": {},
   "outputs": [
    {
     "name": "stderr",
     "output_type": "stream",
     "text": [
      "c:\\Users\\prana\\AppData\\Local\\Programs\\Python\\Python39\\lib\\site-packages\\tqdm\\auto.py:22: TqdmWarning: IProgress not found. Please update jupyter and ipywidgets. See https://ipywidgets.readthedocs.io/en/stable/user_install.html\n",
      "  from .autonotebook import tqdm as notebook_tqdm\n",
      "Models: 100%|██████████| 1/1 [00:42<00:00, 42.01s/it]\n",
      "Models: 100%|██████████| 1/1 [00:41<00:00, 41.06s/it]\n",
      "Models: 100%|██████████| 1/1 [00:43<00:00, 43.98s/it]\n",
      "Models: 100%|██████████| 1/1 [00:57<00:00, 57.19s/it]\n"
     ]
    }
   ],
   "source": [
    "#CNN not modified: 10000 images\n",
    "import experiment\n",
    "import numpy as np\n",
    "\n",
    "acc_100 = np.zeros((2, 28, 10))\n",
    "dem_100 = np.zeros((2, 28, 10))\n",
    "tpp_100 = np.zeros((2, 28, 10))\n",
    "fpp_100 = np.zeros((2, 28, 10))\n",
    "ppv_100 = np.zeros((2, 28, 10))\n",
    "\n",
    "acc_100 = experiment.acc_from_conf_mat\n",
    "dem_100 = experiment.dem_from_conf_mat\n",
    "tpp_100 = experiment.tpp_from_conf_mat\n",
    "fpp_100 = experiment.fpp_from_conf_mat\n",
    "ppv_100 = experiment.ppv_from_conf_mat"
   ]
  },
  {
   "cell_type": "code",
   "execution_count": 2,
   "metadata": {},
   "outputs": [
    {
     "name": "stdout",
     "output_type": "stream",
     "text": [
      "Writing 'acc_100' (ndarray) to file 'var.py'.\n",
      "Writing 'dem_100' (ndarray) to file 'var.py'.\n",
      "Writing 'tpp_100' (ndarray) to file 'var.py'.\n",
      "Writing 'fpp_100' (ndarray) to file 'var.py'.\n",
      "Writing 'ppv_100' (ndarray) to file 'var.py'.\n"
     ]
    }
   ],
   "source": [
    "%store acc_100 >>var.py\n",
    "%store dem_100 >>var.py\n",
    "%store tpp_100 >>var.py\n",
    "%store fpp_100 >>var.py\n",
    "%store ppv_100 >>var.py"
   ]
  },
  {
   "cell_type": "code",
   "execution_count": null,
   "metadata": {},
   "outputs": [],
   "source": [
    "from var import *\n",
    "\n",
    "for i in range(28):\n",
    "    if(\"pseudo_lb_best_policy_overloaded\" in experiment.titles[0][i]):\n",
    "        plt.figure(figsize=(6.4, 9.6))\n",
    "        a0 = experiment.dem_from_conf_mat[0][i]\n",
    "        a0 = [x+1 for x in a0]\n",
    "        a1 = experiment.fpp_from_conf_mat[0][i]\n",
    "        a1 = [x+1 for x in a1]\n",
    "        plt.plot(np.arange(10), a0, linestyle='-', marker='o', color='r', label='Positive Prediction Proportion+1')\n",
    "        plt.plot(np.arange(10), experiment.acc_from_conf_mat[0][i], linestyle='-', marker='o', color='g', label='Accuracy')\n",
    "        plt.plot(np.arange(10), experiment.tpp_from_conf_mat[0][i], linestyle='-', marker='o', color='b', label='True Positive Proportion')\n",
    "        plt.plot(np.arange(10), a1, linestyle='-', marker='o', color='k', label='False Positive Proportion+1')\n",
    "        plt.plot(np.arange(10), experiment.ppv_from_conf_mat[0][i], linestyle='-', marker='o', color='c', label='Positive Prediction Value')\n",
    "        plt.title(experiment.titles[0][i])\n",
    "        plt.yticks(np.arange(0.4, 1.4, 0.05))\n",
    "        plt.xticks(np.arange(0, 10, 1))\n",
    "        plt.xlabel(\"Class\")\n",
    "        plt.ylabel(\"Parity Measure\")\n",
    "        plt.legend()\n",
    "        plt.show()"
   ]
  }
 ],
 "metadata": {
  "kernelspec": {
   "display_name": "Python 3",
   "language": "python",
   "name": "python3"
  },
  "language_info": {
   "codemirror_mode": {
    "name": "ipython",
    "version": 3
   },
   "file_extension": ".py",
   "mimetype": "text/x-python",
   "name": "python",
   "nbconvert_exporter": "python",
   "pygments_lexer": "ipython3",
   "version": "3.9.5 (tags/v3.9.5:0a7dcbd, May  3 2021, 17:27:52) [MSC v.1928 64 bit (AMD64)]"
  },
  "orig_nbformat": 4,
  "vscode": {
   "interpreter": {
    "hash": "35c754d8008c5f8560e4adf341ebf96f62d30db323e3ac43f60a1cb4dab6d757"
   }
  }
 },
 "nbformat": 4,
 "nbformat_minor": 2
}
