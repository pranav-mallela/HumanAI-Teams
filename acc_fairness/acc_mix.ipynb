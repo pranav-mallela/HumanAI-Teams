{
 "cells": [
  {
   "cell_type": "code",
   "execution_count": null,
   "metadata": {},
   "outputs": [],
   "source": [
    "import experiment\n",
    "import numpy as np\n",
    "\n",
    "# mixed accuracies = [0.9, 0.9, 0.45, 0.45, 0.45]\n",
    "\n",
    "acc_mix = np.zeros((2, 28, 10))\n",
    "dem_mix = np.zeros((2, 28, 10))\n",
    "tpp_mix = np.zeros((2, 28, 10))\n",
    "fpp_mix = np.zeros((2, 28, 10))\n",
    "ppv_mix = np.zeros((2, 28, 10))\n",
    "\n",
    "acc_mix = experiment.acc_from_conf_mat\n",
    "dem_mix = experiment.dem_from_conf_mat\n",
    "tpp_mix = experiment.tpp_from_conf_mat\n",
    "fpp_mix = experiment.fpp_from_conf_mat\n",
    "ppv_mix = experiment.ppv_from_conf_mat"
   ]
  },
  {
   "cell_type": "code",
   "execution_count": null,
   "metadata": {},
   "outputs": [],
   "source": [
    "%store acc_mix >>modify_acc_var.py\n",
    "%store dem_mix >>modify_acc_var.py\n",
    "%store tpp_mix >>modify_acc_var.py\n",
    "%store fpp_mix >>modify_acc_var.py\n",
    "%store ppv_mix >>modify_acc_var.py"
   ]
  }
 ],
 "metadata": {
  "kernelspec": {
   "display_name": "Python 3",
   "language": "python",
   "name": "python3"
  },
  "language_info": {
   "codemirror_mode": {
    "name": "ipython",
    "version": 3
   },
   "file_extension": ".py",
   "mimetype": "text/x-python",
   "name": "python",
   "nbconvert_exporter": "python",
   "pygments_lexer": "ipython3",
   "version": "3.9.5"
  },
  "orig_nbformat": 4,
  "vscode": {
   "interpreter": {
    "hash": "35c754d8008c5f8560e4adf341ebf96f62d30db323e3ac43f60a1cb4dab6d757"
   }
  }
 },
 "nbformat": 4,
 "nbformat_minor": 2
}
