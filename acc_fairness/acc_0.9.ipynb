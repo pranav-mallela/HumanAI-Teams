{
 "cells": [
  {
   "cell_type": "code",
   "execution_count": 1,
   "metadata": {},
   "outputs": [
    {
     "name": "stderr",
     "output_type": "stream",
     "text": [
      "c:\\Users\\prana\\AppData\\Local\\Programs\\Python\\Python39\\lib\\site-packages\\tqdm\\auto.py:22: TqdmWarning: IProgress not found. Please update jupyter and ipywidgets. See https://ipywidgets.readthedocs.io/en/stable/user_install.html\n",
      "  from .autonotebook import tqdm as notebook_tqdm\n",
      "Models: 100%|██████████| 1/1 [00:39<00:00, 39.96s/it]\n",
      "Models: 100%|██████████| 1/1 [00:40<00:00, 40.64s/it]\n",
      "Models: 100%|██████████| 1/1 [00:42<00:00, 42.61s/it]\n",
      "Models: 100%|██████████| 1/1 [00:42<00:00, 42.28s/it]\n"
     ]
    }
   ],
   "source": [
    "import experiment\n",
    "import numpy as np\n",
    "\n",
    "acc_90 = np.zeros((2, 28, 10))\n",
    "dem_90 = np.zeros((2, 28, 10))\n",
    "tpp_90 = np.zeros((2, 28, 10))\n",
    "fpp_90 = np.zeros((2, 28, 10))\n",
    "ppv_90 = np.zeros((2, 28, 10))\n",
    "\n",
    "acc_90 = experiment.acc_from_conf_mat\n",
    "dem_90 = experiment.dem_from_conf_mat\n",
    "tpp_90 = experiment.tpp_from_conf_mat\n",
    "fpp_90 = experiment.fpp_from_conf_mat\n",
    "ppv_90 = experiment.ppv_from_conf_mat"
   ]
  },
  {
   "cell_type": "code",
   "execution_count": 2,
   "metadata": {},
   "outputs": [
    {
     "name": "stdout",
     "output_type": "stream",
     "text": [
      "Writing 'acc_90' (ndarray) to file 'modify_acc_var.py'.\n",
      "Writing 'dem_90' (ndarray) to file 'modify_acc_var.py'.\n",
      "Writing 'tpp_90' (ndarray) to file 'modify_acc_var.py'.\n",
      "Writing 'fpp_90' (ndarray) to file 'modify_acc_var.py'.\n",
      "Writing 'ppv_90' (ndarray) to file 'modify_acc_var.py'.\n"
     ]
    }
   ],
   "source": [
    "%store acc_90 >>modify_acc_var.py\n",
    "%store dem_90 >>modify_acc_var.py\n",
    "%store tpp_90 >>modify_acc_var.py\n",
    "%store fpp_90 >>modify_acc_var.py\n",
    "%store ppv_90 >>modify_acc_var.py"
   ]
  }
 ],
 "metadata": {
  "kernelspec": {
   "display_name": "Python 3",
   "language": "python",
   "name": "python3"
  },
  "language_info": {
   "codemirror_mode": {
    "name": "ipython",
    "version": 3
   },
   "file_extension": ".py",
   "mimetype": "text/x-python",
   "name": "python",
   "nbconvert_exporter": "python",
   "pygments_lexer": "ipython3",
   "version": "3.9.5"
  },
  "orig_nbformat": 4,
  "vscode": {
   "interpreter": {
    "hash": "35c754d8008c5f8560e4adf341ebf96f62d30db323e3ac43f60a1cb4dab6d757"
   }
  }
 },
 "nbformat": 4,
 "nbformat_minor": 2
}
